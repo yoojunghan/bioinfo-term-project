{
 "cells": [
  {
   "cell_type": "markdown",
   "metadata": {
    "id": "_SmTogjeMD47"
   },
   "source": [
    "# 생물정보학 및 실습 1 - Term Project용 환경 셋업\n",
    "\n",
    "```\n",
    "생물정보학 및 실습 1\n",
    "서울대학교 협동과정 생물정보학전공 2021년 1학기\n",
    "\n",
    "이 노트북은 Creative Commons BY-SA 조건으로 재사용 가능합니다.\n",
    "장혜식 <hyeshik@snu.ac.kr>, 서울대학교 생명과학부\n",
    "```"
   ]
  },
  {
   "cell_type": "code",
   "execution_count": 2,
   "metadata": {
    "tags": []
   },
   "outputs": [
    {
     "name": "stdout",
     "output_type": "stream",
     "text": [
      "/qbio/yoojung/coursework/2021-1/bioinfo1/bioinfo-term-project/notebooks\n"
     ]
    }
   ],
   "source": [
    "!pwd"
   ]
  },
  {
   "cell_type": "markdown",
   "metadata": {
    "id": "J2LqGiP_N26s"
   },
   "source": [
    "## 시퀀싱 데이터 다운로드"
   ]
  },
  {
   "cell_type": "code",
   "execution_count": 3,
   "metadata": {
    "id": "kIN484e7NSxR"
   },
   "outputs": [
    {
     "name": "stdout",
     "output_type": "stream",
     "text": [
      "../: Is a directory\n",
      "tar: This does not look like a tar archive\n",
      "tar: Exiting with failure status due to previous errors\n"
     ]
    }
   ],
   "source": [
    "!wget -O ../ --no-check-certificate https://hyeshik.qbio.io/binfo/binfo1-datapack1.tar | tar -C ../ -xf -"
   ]
  },
  {
   "cell_type": "markdown",
   "metadata": {
    "id": "lnlM-S70C-tY"
   },
   "source": [
    "받은 데이터의 MD5 체크섬을 확인합니다. 한참 걸립니다. 각 파일들의 원래 체크섬은 다음과 같습니다. 한 번 비교해 보세요.\n",
    "\n",
    "```\n",
    "140aaf30bcb9276cc716f8699f04ddd6  CLIP-35L33G.bam\n",
    "f1b3336ed7e2f97d562dcc71641251bd  CLIP-35L33G.bam.bai\n",
    "328883a73d507eafbf5b60bd6b906201  RNA-control.bam\n",
    "02073818e2f398a73c3b76e5169de1ca  RNA-control.bam.bai\n",
    "b09550d09d6c2a4ce27f0226f426fdb1  RNA-siLin28a.bam\n",
    "fef112c727244060ea62d3f2564a07f6  RNA-siLin28a.bam.bai\n",
    "28bbd0c47d725669340c784f1b772c01  RNA-siLuc.bam\n",
    "43590fdc4d81905c0432e0d1cb8cfd5b  RNA-siLuc.bam.bai\n",
    "5c08a9297307bc83259e658c4474f0cc  RPF-siLin28a.bam\n",
    "a1bb3e29be412dfd7fd8d16b1b1acc4c  RPF-siLin28a.bam.bai\n",
    "f2eebf50943024d0116c9cd3e744c707  RPF-siLuc.bam\n",
    "dc24f69e8f571fc8be30f28ce5b84fcd  RPF-siLuc.bam.bai\n",
    "```"
   ]
  },
  {
   "cell_type": "code",
   "execution_count": 4,
   "metadata": {
    "id": "g8lC_YJRBCPf"
   },
   "outputs": [
    {
     "name": "stdout",
     "output_type": "stream",
     "text": [
      "140aaf30bcb9276cc716f8699f04ddd6  ../binfo1-datapack1/CLIP-35L33G.bam\n",
      "f1b3336ed7e2f97d562dcc71641251bd  ../binfo1-datapack1/CLIP-35L33G.bam.bai\n",
      "328883a73d507eafbf5b60bd6b906201  ../binfo1-datapack1/RNA-control.bam\n",
      "02073818e2f398a73c3b76e5169de1ca  ../binfo1-datapack1/RNA-control.bam.bai\n",
      "b09550d09d6c2a4ce27f0226f426fdb1  ../binfo1-datapack1/RNA-siLin28a.bam\n",
      "fef112c727244060ea62d3f2564a07f6  ../binfo1-datapack1/RNA-siLin28a.bam.bai\n",
      "28bbd0c47d725669340c784f1b772c01  ../binfo1-datapack1/RNA-siLuc.bam\n",
      "43590fdc4d81905c0432e0d1cb8cfd5b  ../binfo1-datapack1/RNA-siLuc.bam.bai\n",
      "5c08a9297307bc83259e658c4474f0cc  ../binfo1-datapack1/RPF-siLin28a.bam\n",
      "a1bb3e29be412dfd7fd8d16b1b1acc4c  ../binfo1-datapack1/RPF-siLin28a.bam.bai\n",
      "f2eebf50943024d0116c9cd3e744c707  ../binfo1-datapack1/RPF-siLuc.bam\n",
      "dc24f69e8f571fc8be30f28ce5b84fcd  ../binfo1-datapack1/RPF-siLuc.bam.bai\n"
     ]
    }
   ],
   "source": [
    "!md5sum ../binfo1-datapack1/*"
   ]
  },
  {
   "cell_type": "markdown",
   "metadata": {
    "id": "kiQ5y4dTD27M"
   },
   "source": [
    "그리고, GENCODE Annotation 데이터도 미리 받아서 저장해 둡니다. 에러가 나면 다시 한 번 실행해 봅니다."
   ]
  },
  {
   "cell_type": "code",
   "execution_count": null,
   "metadata": {
    "id": "Efdd3x8hDMh4"
   },
   "outputs": [],
   "source": [
    "!wget --no-check-certificate -O ../binfo1-datapack1/gencode.gtf.gz http://ftp.ebi.ac.uk/pub/databases/gencode/Gencode_mouse/release_M27/gencode.vM27.annotation.gtf.gz"
   ]
  },
  {
   "cell_type": "markdown",
   "metadata": {
    "id": "O3rM9ds6EMhB"
   },
   "source": [
    "다루기 쉽도록 Annotation 압축을 풉니다."
   ]
  },
  {
   "cell_type": "code",
   "execution_count": 5,
   "metadata": {
    "id": "KNyuSM6PEQvX"
   },
   "outputs": [],
   "source": [
    "!gunzip ../binfo1-datapack1/gencode.gtf.gz"
   ]
  },
  {
   "cell_type": "code",
   "execution_count": 7,
   "metadata": {
    "id": "PVXzIs5FE3Q4"
   },
   "outputs": [
    {
     "name": "stdout",
     "output_type": "stream",
     "text": [
      "CLIP-35L33G.bam      RNA-siLin28a.bam\t   RPF-siLin28a.bam.bai\n",
      "CLIP-35L33G.bam.bai  RNA-siLin28a.bam.bai  RPF-siLuc.bam\n",
      "gencode.gtf\t     RNA-siLuc.bam\t   RPF-siLuc.bam.bai\n",
      "RNA-control.bam      RNA-siLuc.bam.bai\n",
      "RNA-control.bam.bai  RPF-siLin28a.bam\n"
     ]
    }
   ],
   "source": [
    "!ls ../binfo1-datapack1/"
   ]
  },
  {
   "cell_type": "markdown",
   "metadata": {
    "id": "ecEA1PPQUlIK"
   },
   "source": [
    "실습에 필요한 프로그램들 몇 가지를 추가로 설치합니다."
   ]
  },
  {
   "cell_type": "code",
   "execution_count": null,
   "metadata": {
    "id": "neteyWsWEKBy"
   },
   "outputs": [],
   "source": [
    "!conda install -y subread"
   ]
  },
  {
   "cell_type": "markdown",
   "metadata": {
    "id": "Oe_54MZrEi4y"
   },
   "source": [
    "## Transcript count table 마련하기\n",
    "\n",
    "제공된 alignment와 annotation 파일들을 이용해서 transcript별 read count를 구해봅니다. 실제 연구에서는 multi-mapping 등을 고려해야 하지만, 여기서는 단순화해서 모두 무시합니다. 데이터가 있는 곳으로 이동해서 작업합시다."
   ]
  },
  {
   "cell_type": "code",
   "execution_count": 148,
   "metadata": {
    "id": "IANz6DmLUkA6"
   },
   "outputs": [
    {
     "name": "stdout",
     "output_type": "stream",
     "text": [
      "/qbio/yoojung/coursework/2021-1/bioinfo1/bioinfo-term-project/binfo1-datapack1\n"
     ]
    }
   ],
   "source": [
    "%cd ../binfo1-datapack1/"
   ]
  },
  {
   "cell_type": "code",
   "execution_count": 9,
   "metadata": {
    "id": "5OrnDxegFAip"
   },
   "outputs": [
    {
     "name": "stdout",
     "output_type": "stream",
     "text": [
      "\n",
      "       \u001b[44;37m ========== \u001b[0m\u001b[36m    _____ _    _ ____  _____  ______          _____  \n",
      "       \u001b[44;37m =====      \u001b[0m\u001b[36m   / ____| |  | |  _ \\|  __ \\|  ____|   /\\   |  __ \\ \n",
      "       \u001b[44;37m   =====    \u001b[0m\u001b[36m  | (___ | |  | | |_) | |__) | |__     /  \\  | |  | |\n",
      "       \u001b[44;37m     ====   \u001b[0m\u001b[36m   \\___ \\| |  | |  _ <|  _  /|  __|   / /\\ \\ | |  | |\n",
      "       \u001b[44;37m       ==== \u001b[0m\u001b[36m   ____) | |__| | |_) | | \\ \\| |____ / ____ \\| |__| |\n",
      "       \u001b[44;37m ========== \u001b[0m\u001b[36m  |_____/ \\____/|____/|_|  \\_\\______/_/    \\_\\_____/\u001b[0m\n",
      "\t  v2.0.1\n",
      "\n",
      "//==========================\u001b[36m featureCounts setting \u001b[0m===========================\\\\\n",
      "||  \u001b[0m                                                                          ||\n",
      "||             Input files : \u001b[36m6 BAM files  \u001b[0m \u001b[0m                                   ||\n",
      "||                           \u001b[32mo\u001b[36m CLIP-35L33G.bam\u001b[0m \u001b[0m                               ||\n",
      "||                           \u001b[32mo\u001b[36m RNA-control.bam\u001b[0m \u001b[0m                               ||\n",
      "||                           \u001b[32mo\u001b[36m RNA-siLin28a.bam\u001b[0m \u001b[0m                              ||\n",
      "||                           \u001b[32mo\u001b[36m RNA-siLuc.bam\u001b[0m \u001b[0m                                 ||\n",
      "||                           \u001b[32mo\u001b[36m RPF-siLin28a.bam\u001b[0m \u001b[0m                              ||\n",
      "||                           \u001b[32mo\u001b[36m RPF-siLuc.bam\u001b[0m \u001b[0m                                 ||\n",
      "||  \u001b[0m                                                                          ||\n",
      "||             Output file : \u001b[36mread-counts.txt\u001b[0m \u001b[0m                                 ||\n",
      "||                 Summary : \u001b[36mread-counts.txt.summary\u001b[0m \u001b[0m                         ||\n",
      "||              Annotation : \u001b[36mgencode.gtf (GTF)\u001b[0m \u001b[0m                               ||\n",
      "||      Dir for temp files : \u001b[36m./\u001b[0m \u001b[0m                                              ||\n",
      "||  \u001b[0m                                                                          ||\n",
      "||                 Threads : \u001b[36m1\u001b[0m \u001b[0m                                               ||\n",
      "||                   Level : \u001b[36mmeta-feature level\u001b[0m \u001b[0m                              ||\n",
      "||              Paired-end : \u001b[36mno\u001b[0m \u001b[0m                                              ||\n",
      "||      Multimapping reads : \u001b[36mnot counted\u001b[0m \u001b[0m                                     ||\n",
      "|| Multi-overlapping reads : \u001b[36mnot counted\u001b[0m \u001b[0m                                     ||\n",
      "||   Min overlapping bases : \u001b[36m1\u001b[0m \u001b[0m                                               ||\n",
      "||  \u001b[0m                                                                          ||\n",
      "\\\\============================================================================//\n",
      "\n",
      "//=================================\u001b[36m Running \u001b[0m==================================\\\\\n",
      "||  \u001b[0m                                                                          ||\n",
      "|| Load annotation file gencode.gtf \u001b[0m... \u001b[0m                                      ||\n",
      "||    Features : \u001b[36m841952\u001b[0m \u001b[0m                                                      ||\n",
      "||    Meta-features : \u001b[36m55359\u001b[0m \u001b[0m                                                  ||\n",
      "||    Chromosomes/contigs : \u001b[36m22\u001b[0m \u001b[0m                                               ||\n",
      "||  \u001b[0m                                                                          ||\n",
      "|| Process BAM file CLIP-35L33G.bam... \u001b[0m                                       ||\n",
      "||    Single-end reads are included. \u001b[0m                                         ||\n",
      "||    Total alignments : \u001b[36m38880853\u001b[0m \u001b[0m                                            ||\n",
      "||    Successfully assigned alignments : \u001b[36m13630945 (35.1%)\u001b[0m \u001b[0m                    ||\n",
      "||    Running time : \u001b[36m0.48 minutes\u001b[0m \u001b[0m                                            ||\n",
      "||  \u001b[0m                                                                          ||\n",
      "|| Process BAM file RNA-control.bam... \u001b[0m                                       ||\n",
      "||    Single-end reads are included. \u001b[0m                                         ||\n",
      "||    Total alignments : \u001b[36m24971058\u001b[0m \u001b[0m                                            ||\n",
      "||    Successfully assigned alignments : \u001b[36m5200836 (20.8%)\u001b[0m \u001b[0m                     ||\n",
      "||    Running time : \u001b[36m0.31 minutes\u001b[0m \u001b[0m                                            ||\n",
      "||  \u001b[0m                                                                          ||\n",
      "|| Process BAM file RNA-siLin28a.bam... \u001b[0m                                      ||\n",
      "||    Single-end reads are included. \u001b[0m                                         ||\n",
      "||    Total alignments : \u001b[36m35108178\u001b[0m \u001b[0m                                            ||\n",
      "||    Successfully assigned alignments : \u001b[36m12338280 (35.1%)\u001b[0m \u001b[0m                    ||\n",
      "||    Running time : \u001b[36m0.44 minutes\u001b[0m \u001b[0m                                            ||\n",
      "||  \u001b[0m                                                                          ||\n",
      "|| Process BAM file RNA-siLuc.bam... \u001b[0m                                         ||\n",
      "||    Single-end reads are included. \u001b[0m                                         ||\n",
      "||    Total alignments : \u001b[36m28117241\u001b[0m \u001b[0m                                            ||\n",
      "||    Successfully assigned alignments : \u001b[36m9748787 (34.7%)\u001b[0m \u001b[0m                     ||\n",
      "||    Running time : \u001b[36m0.35 minutes\u001b[0m \u001b[0m                                            ||\n",
      "||  \u001b[0m                                                                          ||\n",
      "|| Process BAM file RPF-siLin28a.bam... \u001b[0m                                      ||\n",
      "||    Single-end reads are included. \u001b[0m                                         ||\n",
      "||    Total alignments : \u001b[36m30095551\u001b[0m \u001b[0m                                            ||\n",
      "||    Successfully assigned alignments : \u001b[36m10694162 (35.5%)\u001b[0m \u001b[0m                    ||\n",
      "||    Running time : \u001b[36m0.31 minutes\u001b[0m \u001b[0m                                            ||\n",
      "||  \u001b[0m                                                                          ||\n",
      "|| Process BAM file RPF-siLuc.bam... \u001b[0m                                         ||\n",
      "||    Single-end reads are included. \u001b[0m                                         ||\n",
      "||    Total alignments : \u001b[36m42002435\u001b[0m \u001b[0m                                            ||\n",
      "||    Successfully assigned alignments : \u001b[36m12932285 (30.8%)\u001b[0m \u001b[0m                    ||\n",
      "||    Running time : \u001b[36m0.43 minutes\u001b[0m \u001b[0m                                            ||\n",
      "||  \u001b[0m                                                                          ||\n",
      "|| Write the final count table. \u001b[0m                                              ||\n",
      "|| Write the read assignment summary. \u001b[0m                                        ||\n",
      "||  \u001b[0m                                                                          ||\n",
      "|| Summary of counting results can be found in file \"read-counts.txt.summary \u001b[0m ||\n",
      "|| \" \u001b[0m                                                                         ||\n",
      "||  \u001b[0m                                                                          ||\n",
      "\\\\============================================================================//\n",
      "\n"
     ]
    }
   ],
   "source": [
    "!featureCounts -a gencode.gtf -o ../read-counts.txt *.bam "
   ]
  },
  {
   "cell_type": "markdown",
   "metadata": {
    "id": "b2yJztZvGl9Q"
   },
   "source": [
    "결과를 pandas로 읽어와 봅니다."
   ]
  },
  {
   "cell_type": "code",
   "execution_count": 91,
   "metadata": {
    "id": "BMyNT3ARFAWi"
   },
   "outputs": [
    {
     "data": {
      "text/html": [
       "<div>\n",
       "<style scoped>\n",
       "    .dataframe tbody tr th:only-of-type {\n",
       "        vertical-align: middle;\n",
       "    }\n",
       "\n",
       "    .dataframe tbody tr th {\n",
       "        vertical-align: top;\n",
       "    }\n",
       "\n",
       "    .dataframe thead th {\n",
       "        text-align: right;\n",
       "    }\n",
       "</style>\n",
       "<table border=\"1\" class=\"dataframe\">\n",
       "  <thead>\n",
       "    <tr style=\"text-align: right;\">\n",
       "      <th></th>\n",
       "      <th>Chr</th>\n",
       "      <th>Start</th>\n",
       "      <th>End</th>\n",
       "      <th>Strand</th>\n",
       "      <th>Length</th>\n",
       "      <th>CLIP-35L33G.bam</th>\n",
       "      <th>RNA-control.bam</th>\n",
       "      <th>RNA-siLin28a.bam</th>\n",
       "      <th>RNA-siLuc.bam</th>\n",
       "      <th>RPF-siLin28a.bam</th>\n",
       "      <th>RPF-siLuc.bam</th>\n",
       "    </tr>\n",
       "    <tr>\n",
       "      <th>Geneid</th>\n",
       "      <th></th>\n",
       "      <th></th>\n",
       "      <th></th>\n",
       "      <th></th>\n",
       "      <th></th>\n",
       "      <th></th>\n",
       "      <th></th>\n",
       "      <th></th>\n",
       "      <th></th>\n",
       "      <th></th>\n",
       "      <th></th>\n",
       "    </tr>\n",
       "  </thead>\n",
       "  <tbody>\n",
       "    <tr>\n",
       "      <th>ENSMUSG00000102693.2</th>\n",
       "      <td>chr1</td>\n",
       "      <td>3143476</td>\n",
       "      <td>3144545</td>\n",
       "      <td>+</td>\n",
       "      <td>1070</td>\n",
       "      <td>0</td>\n",
       "      <td>0</td>\n",
       "      <td>0</td>\n",
       "      <td>0</td>\n",
       "      <td>0</td>\n",
       "      <td>0</td>\n",
       "    </tr>\n",
       "    <tr>\n",
       "      <th>ENSMUSG00000064842.3</th>\n",
       "      <td>chr1</td>\n",
       "      <td>3172239</td>\n",
       "      <td>3172348</td>\n",
       "      <td>+</td>\n",
       "      <td>110</td>\n",
       "      <td>0</td>\n",
       "      <td>0</td>\n",
       "      <td>0</td>\n",
       "      <td>0</td>\n",
       "      <td>0</td>\n",
       "      <td>0</td>\n",
       "    </tr>\n",
       "    <tr>\n",
       "      <th>ENSMUSG00000051951.6</th>\n",
       "      <td>chr1;chr1;chr1;chr1;chr1;chr1;chr1</td>\n",
       "      <td>3276124;3276746;3283662;3283832;3284705;349192...</td>\n",
       "      <td>3277540;3277540;3285855;3286567;3287191;349212...</td>\n",
       "      <td>-;-;-;-;-;-;-</td>\n",
       "      <td>6094</td>\n",
       "      <td>4</td>\n",
       "      <td>1</td>\n",
       "      <td>1</td>\n",
       "      <td>1</td>\n",
       "      <td>0</td>\n",
       "      <td>0</td>\n",
       "    </tr>\n",
       "    <tr>\n",
       "      <th>ENSMUSG00000102851.2</th>\n",
       "      <td>chr1</td>\n",
       "      <td>3322980</td>\n",
       "      <td>3323459</td>\n",
       "      <td>+</td>\n",
       "      <td>480</td>\n",
       "      <td>3</td>\n",
       "      <td>0</td>\n",
       "      <td>0</td>\n",
       "      <td>0</td>\n",
       "      <td>0</td>\n",
       "      <td>0</td>\n",
       "    </tr>\n",
       "    <tr>\n",
       "      <th>ENSMUSG00000103377.2</th>\n",
       "      <td>chr1</td>\n",
       "      <td>3435954</td>\n",
       "      <td>3438772</td>\n",
       "      <td>-</td>\n",
       "      <td>2819</td>\n",
       "      <td>0</td>\n",
       "      <td>0</td>\n",
       "      <td>0</td>\n",
       "      <td>0</td>\n",
       "      <td>0</td>\n",
       "      <td>0</td>\n",
       "    </tr>\n",
       "  </tbody>\n",
       "</table>\n",
       "</div>"
      ],
      "text/plain": [
       "                                                     Chr  \\\n",
       "Geneid                                                     \n",
       "ENSMUSG00000102693.2                                chr1   \n",
       "ENSMUSG00000064842.3                                chr1   \n",
       "ENSMUSG00000051951.6  chr1;chr1;chr1;chr1;chr1;chr1;chr1   \n",
       "ENSMUSG00000102851.2                                chr1   \n",
       "ENSMUSG00000103377.2                                chr1   \n",
       "\n",
       "                                                                  Start  \\\n",
       "Geneid                                                                    \n",
       "ENSMUSG00000102693.2                                            3143476   \n",
       "ENSMUSG00000064842.3                                            3172239   \n",
       "ENSMUSG00000051951.6  3276124;3276746;3283662;3283832;3284705;349192...   \n",
       "ENSMUSG00000102851.2                                            3322980   \n",
       "ENSMUSG00000103377.2                                            3435954   \n",
       "\n",
       "                                                                    End  \\\n",
       "Geneid                                                                    \n",
       "ENSMUSG00000102693.2                                            3144545   \n",
       "ENSMUSG00000064842.3                                            3172348   \n",
       "ENSMUSG00000051951.6  3277540;3277540;3285855;3286567;3287191;349212...   \n",
       "ENSMUSG00000102851.2                                            3323459   \n",
       "ENSMUSG00000103377.2                                            3438772   \n",
       "\n",
       "                             Strand  Length  CLIP-35L33G.bam  RNA-control.bam  \\\n",
       "Geneid                                                                          \n",
       "ENSMUSG00000102693.2              +    1070                0                0   \n",
       "ENSMUSG00000064842.3              +     110                0                0   \n",
       "ENSMUSG00000051951.6  -;-;-;-;-;-;-    6094                4                1   \n",
       "ENSMUSG00000102851.2              +     480                3                0   \n",
       "ENSMUSG00000103377.2              -    2819                0                0   \n",
       "\n",
       "                      RNA-siLin28a.bam  RNA-siLuc.bam  RPF-siLin28a.bam  \\\n",
       "Geneid                                                                    \n",
       "ENSMUSG00000102693.2                 0              0                 0   \n",
       "ENSMUSG00000064842.3                 0              0                 0   \n",
       "ENSMUSG00000051951.6                 1              1                 0   \n",
       "ENSMUSG00000102851.2                 0              0                 0   \n",
       "ENSMUSG00000103377.2                 0              0                 0   \n",
       "\n",
       "                      RPF-siLuc.bam  \n",
       "Geneid                               \n",
       "ENSMUSG00000102693.2              0  \n",
       "ENSMUSG00000064842.3              0  \n",
       "ENSMUSG00000051951.6              0  \n",
       "ENSMUSG00000102851.2              0  \n",
       "ENSMUSG00000103377.2              0  "
      ]
     },
     "execution_count": 91,
     "metadata": {},
     "output_type": "execute_result"
    }
   ],
   "source": [
    "import pandas as pd\n",
    "cnts = pd.read_csv('data/read-counts.txt', sep='\\t', comment='#', index_col=0)\n",
    "cnts.head()"
   ]
  },
  {
   "cell_type": "markdown",
   "metadata": {
    "id": "byKCv80ysiNr"
   },
   "source": []
  },
  {
   "cell_type": "markdown",
   "metadata": {
    "id": "NyrUZ7WBPAmv"
   },
   "source": [
    "이제 한 번 대충 그림을 그려 봅니다."
   ]
  },
  {
   "cell_type": "code",
   "execution_count": 100,
   "metadata": {
    "id": "YlSZiJgVPAZS"
   },
   "outputs": [
    {
     "data": {
      "text/html": [
       "<div>\n",
       "<style scoped>\n",
       "    .dataframe tbody tr th:only-of-type {\n",
       "        vertical-align: middle;\n",
       "    }\n",
       "\n",
       "    .dataframe tbody tr th {\n",
       "        vertical-align: top;\n",
       "    }\n",
       "\n",
       "    .dataframe thead th {\n",
       "        text-align: right;\n",
       "    }\n",
       "</style>\n",
       "<table border=\"1\" class=\"dataframe\">\n",
       "  <thead>\n",
       "    <tr style=\"text-align: right;\">\n",
       "      <th></th>\n",
       "      <th>Chr</th>\n",
       "      <th>Start</th>\n",
       "      <th>End</th>\n",
       "      <th>Strand</th>\n",
       "      <th>Length</th>\n",
       "      <th>CLIP-35L33G.bam</th>\n",
       "      <th>RNA-control.bam</th>\n",
       "      <th>RNA-siLin28a.bam</th>\n",
       "      <th>RNA-siLuc.bam</th>\n",
       "      <th>RPF-siLin28a.bam</th>\n",
       "      <th>RPF-siLuc.bam</th>\n",
       "      <th>clip_enrichment</th>\n",
       "      <th>rden_change</th>\n",
       "    </tr>\n",
       "    <tr>\n",
       "      <th>Geneid</th>\n",
       "      <th></th>\n",
       "      <th></th>\n",
       "      <th></th>\n",
       "      <th></th>\n",
       "      <th></th>\n",
       "      <th></th>\n",
       "      <th></th>\n",
       "      <th></th>\n",
       "      <th></th>\n",
       "      <th></th>\n",
       "      <th></th>\n",
       "      <th></th>\n",
       "      <th></th>\n",
       "    </tr>\n",
       "  </thead>\n",
       "  <tbody>\n",
       "    <tr>\n",
       "      <th>ENSMUSG00000102693.2</th>\n",
       "      <td>chr1</td>\n",
       "      <td>3143476</td>\n",
       "      <td>3144545</td>\n",
       "      <td>+</td>\n",
       "      <td>1070</td>\n",
       "      <td>0</td>\n",
       "      <td>0</td>\n",
       "      <td>0</td>\n",
       "      <td>0</td>\n",
       "      <td>0</td>\n",
       "      <td>0</td>\n",
       "      <td>NaN</td>\n",
       "      <td>NaN</td>\n",
       "    </tr>\n",
       "    <tr>\n",
       "      <th>ENSMUSG00000064842.3</th>\n",
       "      <td>chr1</td>\n",
       "      <td>3172239</td>\n",
       "      <td>3172348</td>\n",
       "      <td>+</td>\n",
       "      <td>110</td>\n",
       "      <td>0</td>\n",
       "      <td>0</td>\n",
       "      <td>0</td>\n",
       "      <td>0</td>\n",
       "      <td>0</td>\n",
       "      <td>0</td>\n",
       "      <td>NaN</td>\n",
       "      <td>NaN</td>\n",
       "    </tr>\n",
       "    <tr>\n",
       "      <th>ENSMUSG00000051951.6</th>\n",
       "      <td>chr1;chr1;chr1;chr1;chr1;chr1;chr1</td>\n",
       "      <td>3276124;3276746;3283662;3283832;3284705;349192...</td>\n",
       "      <td>3277540;3277540;3285855;3286567;3287191;349212...</td>\n",
       "      <td>-;-;-;-;-;-;-</td>\n",
       "      <td>6094</td>\n",
       "      <td>4</td>\n",
       "      <td>1</td>\n",
       "      <td>1</td>\n",
       "      <td>1</td>\n",
       "      <td>0</td>\n",
       "      <td>0</td>\n",
       "      <td>4.0</td>\n",
       "      <td>NaN</td>\n",
       "    </tr>\n",
       "    <tr>\n",
       "      <th>ENSMUSG00000102851.2</th>\n",
       "      <td>chr1</td>\n",
       "      <td>3322980</td>\n",
       "      <td>3323459</td>\n",
       "      <td>+</td>\n",
       "      <td>480</td>\n",
       "      <td>3</td>\n",
       "      <td>0</td>\n",
       "      <td>0</td>\n",
       "      <td>0</td>\n",
       "      <td>0</td>\n",
       "      <td>0</td>\n",
       "      <td>inf</td>\n",
       "      <td>NaN</td>\n",
       "    </tr>\n",
       "    <tr>\n",
       "      <th>ENSMUSG00000103377.2</th>\n",
       "      <td>chr1</td>\n",
       "      <td>3435954</td>\n",
       "      <td>3438772</td>\n",
       "      <td>-</td>\n",
       "      <td>2819</td>\n",
       "      <td>0</td>\n",
       "      <td>0</td>\n",
       "      <td>0</td>\n",
       "      <td>0</td>\n",
       "      <td>0</td>\n",
       "      <td>0</td>\n",
       "      <td>NaN</td>\n",
       "      <td>NaN</td>\n",
       "    </tr>\n",
       "  </tbody>\n",
       "</table>\n",
       "</div>"
      ],
      "text/plain": [
       "                                                     Chr  \\\n",
       "Geneid                                                     \n",
       "ENSMUSG00000102693.2                                chr1   \n",
       "ENSMUSG00000064842.3                                chr1   \n",
       "ENSMUSG00000051951.6  chr1;chr1;chr1;chr1;chr1;chr1;chr1   \n",
       "ENSMUSG00000102851.2                                chr1   \n",
       "ENSMUSG00000103377.2                                chr1   \n",
       "\n",
       "                                                                  Start  \\\n",
       "Geneid                                                                    \n",
       "ENSMUSG00000102693.2                                            3143476   \n",
       "ENSMUSG00000064842.3                                            3172239   \n",
       "ENSMUSG00000051951.6  3276124;3276746;3283662;3283832;3284705;349192...   \n",
       "ENSMUSG00000102851.2                                            3322980   \n",
       "ENSMUSG00000103377.2                                            3435954   \n",
       "\n",
       "                                                                    End  \\\n",
       "Geneid                                                                    \n",
       "ENSMUSG00000102693.2                                            3144545   \n",
       "ENSMUSG00000064842.3                                            3172348   \n",
       "ENSMUSG00000051951.6  3277540;3277540;3285855;3286567;3287191;349212...   \n",
       "ENSMUSG00000102851.2                                            3323459   \n",
       "ENSMUSG00000103377.2                                            3438772   \n",
       "\n",
       "                             Strand  Length  CLIP-35L33G.bam  RNA-control.bam  \\\n",
       "Geneid                                                                          \n",
       "ENSMUSG00000102693.2              +    1070                0                0   \n",
       "ENSMUSG00000064842.3              +     110                0                0   \n",
       "ENSMUSG00000051951.6  -;-;-;-;-;-;-    6094                4                1   \n",
       "ENSMUSG00000102851.2              +     480                3                0   \n",
       "ENSMUSG00000103377.2              -    2819                0                0   \n",
       "\n",
       "                      RNA-siLin28a.bam  RNA-siLuc.bam  RPF-siLin28a.bam  \\\n",
       "Geneid                                                                    \n",
       "ENSMUSG00000102693.2                 0              0                 0   \n",
       "ENSMUSG00000064842.3                 0              0                 0   \n",
       "ENSMUSG00000051951.6                 1              1                 0   \n",
       "ENSMUSG00000102851.2                 0              0                 0   \n",
       "ENSMUSG00000103377.2                 0              0                 0   \n",
       "\n",
       "                      RPF-siLuc.bam  clip_enrichment  rden_change  \n",
       "Geneid                                                             \n",
       "ENSMUSG00000102693.2              0              NaN          NaN  \n",
       "ENSMUSG00000064842.3              0              NaN          NaN  \n",
       "ENSMUSG00000051951.6              0              4.0          NaN  \n",
       "ENSMUSG00000102851.2              0              inf          NaN  \n",
       "ENSMUSG00000103377.2              0              NaN          NaN  "
      ]
     },
     "execution_count": 100,
     "metadata": {},
     "output_type": "execute_result"
    }
   ],
   "source": [
    "cnts['clip_enrichment'] = cnts['CLIP-35L33G.bam'] / cnts['RNA-control.bam']\n",
    "cnts['rden_change'] = (cnts['RPF-siLin28a.bam'] / cnts['RNA-siLin28a.bam']) / (cnts['RPF-siLuc.bam'] / cnts['RNA-siLuc.bam'])\n",
    "cnts.head()"
   ]
  },
  {
   "cell_type": "code",
   "execution_count": 101,
   "metadata": {},
   "outputs": [
    {
     "data": {
      "text/plain": [
       "(55359, 13)"
      ]
     },
     "execution_count": 101,
     "metadata": {},
     "output_type": "execute_result"
    }
   ],
   "source": [
    "cnts.shape"
   ]
  },
  {
   "cell_type": "code",
   "execution_count": 112,
   "metadata": {
    "tags": []
   },
   "outputs": [
    {
     "data": {
      "text/plain": [
       "(3909, 13)"
      ]
     },
     "execution_count": 112,
     "metadata": {},
     "output_type": "execute_result"
    }
   ],
   "source": [
    "# set cutoff value\n",
    "\n",
    "cnts_cutoff = cnts[(cnts['RNA-control.bam'] > 300) & (cnts['RNA-siLin28a.bam'] > 300) & (cnts['RNA-siLuc.bam'] > 300)]\n",
    "cnts_cutoff.shape"
   ]
  },
  {
   "cell_type": "code",
   "execution_count": 103,
   "metadata": {},
   "outputs": [
    {
     "data": {
      "text/html": [
       "<div>\n",
       "<style scoped>\n",
       "    .dataframe tbody tr th:only-of-type {\n",
       "        vertical-align: middle;\n",
       "    }\n",
       "\n",
       "    .dataframe tbody tr th {\n",
       "        vertical-align: top;\n",
       "    }\n",
       "\n",
       "    .dataframe thead th {\n",
       "        text-align: right;\n",
       "    }\n",
       "</style>\n",
       "<table border=\"1\" class=\"dataframe\">\n",
       "  <thead>\n",
       "    <tr style=\"text-align: right;\">\n",
       "      <th></th>\n",
       "      <th>Chr</th>\n",
       "      <th>Start</th>\n",
       "      <th>End</th>\n",
       "      <th>Strand</th>\n",
       "      <th>Length</th>\n",
       "      <th>CLIP-35L33G.bam</th>\n",
       "      <th>RNA-control.bam</th>\n",
       "      <th>RNA-siLin28a.bam</th>\n",
       "      <th>RNA-siLuc.bam</th>\n",
       "      <th>RPF-siLin28a.bam</th>\n",
       "      <th>RPF-siLuc.bam</th>\n",
       "      <th>clip_enrichment</th>\n",
       "      <th>rden_change</th>\n",
       "    </tr>\n",
       "    <tr>\n",
       "      <th>Geneid</th>\n",
       "      <th></th>\n",
       "      <th></th>\n",
       "      <th></th>\n",
       "      <th></th>\n",
       "      <th></th>\n",
       "      <th></th>\n",
       "      <th></th>\n",
       "      <th></th>\n",
       "      <th></th>\n",
       "      <th></th>\n",
       "      <th></th>\n",
       "      <th></th>\n",
       "      <th></th>\n",
       "    </tr>\n",
       "  </thead>\n",
       "  <tbody>\n",
       "    <tr>\n",
       "      <th>ENSMUSG00000103922.2</th>\n",
       "      <td>chr1</td>\n",
       "      <td>4841354</td>\n",
       "      <td>4842422</td>\n",
       "      <td>+</td>\n",
       "      <td>1069</td>\n",
       "      <td>183</td>\n",
       "      <td>95</td>\n",
       "      <td>93</td>\n",
       "      <td>100</td>\n",
       "      <td>42</td>\n",
       "      <td>75</td>\n",
       "      <td>1.926316</td>\n",
       "      <td>0.602151</td>\n",
       "    </tr>\n",
       "    <tr>\n",
       "      <th>ENSMUSG00000033845.14</th>\n",
       "      <td>chr1;chr1;chr1;chr1;chr1;chr1;chr1;chr1;chr1;c...</td>\n",
       "      <td>4843429;4843434;4844659;4846600;4847748;484774...</td>\n",
       "      <td>4844739;4847024;4844739;4847024;4847871;484787...</td>\n",
       "      <td>-;-;-;-;-;-;-;-;-;-;-;-;-;-;-;-;-;-;-;-;-;-;-;...</td>\n",
       "      <td>8487</td>\n",
       "      <td>4014</td>\n",
       "      <td>1355</td>\n",
       "      <td>3022</td>\n",
       "      <td>2563</td>\n",
       "      <td>1859</td>\n",
       "      <td>3191</td>\n",
       "      <td>2.962362</td>\n",
       "      <td>0.494091</td>\n",
       "    </tr>\n",
       "    <tr>\n",
       "      <th>ENSMUSG00000025903.15</th>\n",
       "      <td>chr1;chr1;chr1;chr1;chr1;chr1;chr1;chr1;chr1;c...</td>\n",
       "      <td>4878011;4878046;4878053;4878119;4878121;487813...</td>\n",
       "      <td>4878205;4878205;4878205;4878205;4878205;487820...</td>\n",
       "      <td>+;+;+;+;+;+;+;+;+;+;+;+;+;+;+;+;+;+;+;+;+;+;+;...</td>\n",
       "      <td>7145</td>\n",
       "      <td>2045</td>\n",
       "      <td>574</td>\n",
       "      <td>1219</td>\n",
       "      <td>1236</td>\n",
       "      <td>33</td>\n",
       "      <td>44</td>\n",
       "      <td>3.562718</td>\n",
       "      <td>0.760459</td>\n",
       "    </tr>\n",
       "    <tr>\n",
       "      <th>ENSMUSG00000033813.16</th>\n",
       "      <td>chr1;chr1;chr1;chr1;chr1;chr1;chr1;chr1;chr1;c...</td>\n",
       "      <td>4928037;4928261;4937693;4937693;4948250;494825...</td>\n",
       "      <td>4928199;4928726;4937755;4937755;4948355;494835...</td>\n",
       "      <td>+;+;+;+;+;+;+;+;+;+;+;+;+;+;+;+;+;+;+;+</td>\n",
       "      <td>3017</td>\n",
       "      <td>1658</td>\n",
       "      <td>762</td>\n",
       "      <td>2130</td>\n",
       "      <td>2225</td>\n",
       "      <td>328</td>\n",
       "      <td>609</td>\n",
       "      <td>2.175853</td>\n",
       "      <td>0.562609</td>\n",
       "    </tr>\n",
       "    <tr>\n",
       "      <th>ENSMUSG00000033793.13</th>\n",
       "      <td>chr1;chr1;chr1;chr1;chr1;chr1;chr1;chr1;chr1;c...</td>\n",
       "      <td>5140241;5153303;5153333;5153347;5153355;515335...</td>\n",
       "      <td>5140367;5153501;5153848;5153501;5153501;515350...</td>\n",
       "      <td>+;+;+;+;+;+;+;+;+;+;+;+;+;+;+;+;+;+;+;+;+;+;+;...</td>\n",
       "      <td>9746</td>\n",
       "      <td>1111</td>\n",
       "      <td>474</td>\n",
       "      <td>1260</td>\n",
       "      <td>1031</td>\n",
       "      <td>603</td>\n",
       "      <td>1128</td>\n",
       "      <td>2.343882</td>\n",
       "      <td>0.437418</td>\n",
       "    </tr>\n",
       "  </tbody>\n",
       "</table>\n",
       "</div>"
      ],
      "text/plain": [
       "                                                                     Chr  \\\n",
       "Geneid                                                                     \n",
       "ENSMUSG00000103922.2                                                chr1   \n",
       "ENSMUSG00000033845.14  chr1;chr1;chr1;chr1;chr1;chr1;chr1;chr1;chr1;c...   \n",
       "ENSMUSG00000025903.15  chr1;chr1;chr1;chr1;chr1;chr1;chr1;chr1;chr1;c...   \n",
       "ENSMUSG00000033813.16  chr1;chr1;chr1;chr1;chr1;chr1;chr1;chr1;chr1;c...   \n",
       "ENSMUSG00000033793.13  chr1;chr1;chr1;chr1;chr1;chr1;chr1;chr1;chr1;c...   \n",
       "\n",
       "                                                                   Start  \\\n",
       "Geneid                                                                     \n",
       "ENSMUSG00000103922.2                                             4841354   \n",
       "ENSMUSG00000033845.14  4843429;4843434;4844659;4846600;4847748;484774...   \n",
       "ENSMUSG00000025903.15  4878011;4878046;4878053;4878119;4878121;487813...   \n",
       "ENSMUSG00000033813.16  4928037;4928261;4937693;4937693;4948250;494825...   \n",
       "ENSMUSG00000033793.13  5140241;5153303;5153333;5153347;5153355;515335...   \n",
       "\n",
       "                                                                     End  \\\n",
       "Geneid                                                                     \n",
       "ENSMUSG00000103922.2                                             4842422   \n",
       "ENSMUSG00000033845.14  4844739;4847024;4844739;4847024;4847871;484787...   \n",
       "ENSMUSG00000025903.15  4878205;4878205;4878205;4878205;4878205;487820...   \n",
       "ENSMUSG00000033813.16  4928199;4928726;4937755;4937755;4948355;494835...   \n",
       "ENSMUSG00000033793.13  5140367;5153501;5153848;5153501;5153501;515350...   \n",
       "\n",
       "                                                                  Strand  \\\n",
       "Geneid                                                                     \n",
       "ENSMUSG00000103922.2                                                   +   \n",
       "ENSMUSG00000033845.14  -;-;-;-;-;-;-;-;-;-;-;-;-;-;-;-;-;-;-;-;-;-;-;...   \n",
       "ENSMUSG00000025903.15  +;+;+;+;+;+;+;+;+;+;+;+;+;+;+;+;+;+;+;+;+;+;+;...   \n",
       "ENSMUSG00000033813.16            +;+;+;+;+;+;+;+;+;+;+;+;+;+;+;+;+;+;+;+   \n",
       "ENSMUSG00000033793.13  +;+;+;+;+;+;+;+;+;+;+;+;+;+;+;+;+;+;+;+;+;+;+;...   \n",
       "\n",
       "                       Length  CLIP-35L33G.bam  RNA-control.bam  \\\n",
       "Geneid                                                            \n",
       "ENSMUSG00000103922.2     1069              183               95   \n",
       "ENSMUSG00000033845.14    8487             4014             1355   \n",
       "ENSMUSG00000025903.15    7145             2045              574   \n",
       "ENSMUSG00000033813.16    3017             1658              762   \n",
       "ENSMUSG00000033793.13    9746             1111              474   \n",
       "\n",
       "                       RNA-siLin28a.bam  RNA-siLuc.bam  RPF-siLin28a.bam  \\\n",
       "Geneid                                                                     \n",
       "ENSMUSG00000103922.2                 93            100                42   \n",
       "ENSMUSG00000033845.14              3022           2563              1859   \n",
       "ENSMUSG00000025903.15              1219           1236                33   \n",
       "ENSMUSG00000033813.16              2130           2225               328   \n",
       "ENSMUSG00000033793.13              1260           1031               603   \n",
       "\n",
       "                       RPF-siLuc.bam  clip_enrichment  rden_change  \n",
       "Geneid                                                              \n",
       "ENSMUSG00000103922.2              75         1.926316     0.602151  \n",
       "ENSMUSG00000033845.14           3191         2.962362     0.494091  \n",
       "ENSMUSG00000025903.15             44         3.562718     0.760459  \n",
       "ENSMUSG00000033813.16            609         2.175853     0.562609  \n",
       "ENSMUSG00000033793.13           1128         2.343882     0.437418  "
      ]
     },
     "execution_count": 103,
     "metadata": {},
     "output_type": "execute_result"
    }
   ],
   "source": [
    "cnts_cutoff.head()"
   ]
  },
  {
   "cell_type": "code",
   "execution_count": 147,
   "metadata": {
    "id": "vU3ce_HEFALl"
   },
   "outputs": [
    {
     "name": "stdout",
     "output_type": "stream",
     "text": [
      "0.4693361537523259\n"
     ]
    },
    {
     "data": {
      "text/plain": [
       "Text(0.5, 1.0, 'CLIP and ribosome footprinting upon Lin28a knockdown')"
      ]
     },
     "execution_count": 147,
     "metadata": {},
     "output_type": "execute_result"
    },
    {
     "data": {
      "image/png": "[encoded data removed]",
      "text/plain": [
       "<Figure size 360x360 with 1 Axes>"
      ]
     },
     "metadata": {
      "needs_background": "light"
     },
     "output_type": "display_data"
    }
   ],
   "source": [
    "from matplotlib import pyplot as plt\n",
    "import numpy as np\n",
    "from scipy import stats\n",
    "\n",
    "pearsonr = stats.pearsonr(np.log2(cnts_cutoff['clip_enrichment']), np.log2(cnts_cutoff['rden_change']))\n",
    "print(pearsonr[0])\n",
    "\n",
    "fig, ax = plt.subplots(1, 1, figsize=(5, 5))\n",
    "ax.scatter(np.log2(cnts_cutoff['clip_enrichment']),\n",
    "           np.log2(cnts_cutoff['rden_change']),\n",
    "           c='black',\n",
    "           s=3,\n",
    "           alpha=0.3)\n",
    "# control limitation of x and y axis\n",
    "ax.set_xlim(-6,7)\n",
    "ax.set_ylim(-3,1.5)\n",
    "ax.text(3, -2.8, 'r = {:.4f}'.format(pearsonr[0]), fontsize=14)\n",
    "ax.grid(alpha=0.3)\n",
    "ax.set_xlabel('LIN28A CLIP enrichment (log2)')\n",
    "ax.set_ylabel('Ribosome density change \\nupon Lin28a knockdown (log2)')\n",
    "ax.set_title('CLIP and ribosome footprinting upon Lin28a knockdown')"
   ]
  },
  {
   "cell_type": "code",
   "execution_count": null,
   "metadata": {},
   "outputs": [],
   "source": [
    "# there is a correlation between LIN28A binding and translation"
   ]
  },
  {
   "cell_type": "markdown",
   "metadata": {
    "id": "ksVjIL10mV_v"
   },
   "source": [
    "이 그림에는 문제가 많이 있습니다. 논문의 그림처럼 한 번 만들어 봅시다~"
   ]
  },
  {
   "cell_type": "code",
   "execution_count": null,
   "metadata": {
    "id": "RZ-EV3s5X3u5"
   },
   "outputs": [],
   "source": []
  },
  {
   "cell_type": "markdown",
   "metadata": {
    "id": "sf6EJJ60Qbxg"
   },
   "source": [
    "## Protein localization 반영하기\n",
    "\n",
    "논문 그림에서는 protein localization을 반영해서 색으로 나타냈습니다. 이것을 한 번 구현해 봅시다. 각 gene product의 localization을 따로 구하려면 좀 귀찮기 때문에 미리 모아 두었습니다. UniProt에서 매핑된 데이터를 토대로 아주 명확한 것만 일부 정리한 것입니다. 이것도 마찬가지로 처음엔 에러가 나기도 하니까, 다시 실행해보면 거의 잘 됩니다~"
   ]
  },
  {
   "cell_type": "code",
   "execution_count": 35,
   "metadata": {
    "id": "ivb1q7_f-gl4"
   },
   "outputs": [
    {
     "data": {
      "text/html": [
       "<div>\n",
       "<style scoped>\n",
       "    .dataframe tbody tr th:only-of-type {\n",
       "        vertical-align: middle;\n",
       "    }\n",
       "\n",
       "    .dataframe tbody tr th {\n",
       "        vertical-align: top;\n",
       "    }\n",
       "\n",
       "    .dataframe thead th {\n",
       "        text-align: right;\n",
       "    }\n",
       "</style>\n",
       "<table border=\"1\" class=\"dataframe\">\n",
       "  <thead>\n",
       "    <tr style=\"text-align: right;\">\n",
       "      <th></th>\n",
       "      <th>gene_id</th>\n",
       "      <th>Gene names</th>\n",
       "      <th>type</th>\n",
       "    </tr>\n",
       "  </thead>\n",
       "  <tbody>\n",
       "    <tr>\n",
       "      <th>0</th>\n",
       "      <td>ENSMUSG00000000001</td>\n",
       "      <td>Gnai3</td>\n",
       "      <td>cytoplasm</td>\n",
       "    </tr>\n",
       "    <tr>\n",
       "      <th>1</th>\n",
       "      <td>ENSMUSG00000000028</td>\n",
       "      <td>Cdc45 Cdc45l Cdc45l2</td>\n",
       "      <td>nucleus</td>\n",
       "    </tr>\n",
       "    <tr>\n",
       "      <th>2</th>\n",
       "      <td>ENSMUSG00000000049</td>\n",
       "      <td>Apoh B2gp1</td>\n",
       "      <td>cytoplasm</td>\n",
       "    </tr>\n",
       "    <tr>\n",
       "      <th>3</th>\n",
       "      <td>ENSMUSG00000000058</td>\n",
       "      <td>Cav2</td>\n",
       "      <td>cytoplasm</td>\n",
       "    </tr>\n",
       "    <tr>\n",
       "      <th>4</th>\n",
       "      <td>ENSMUSG00000000085</td>\n",
       "      <td>Scmh1</td>\n",
       "      <td>nucleus</td>\n",
       "    </tr>\n",
       "  </tbody>\n",
       "</table>\n",
       "</div>"
      ],
      "text/plain": [
       "              gene_id            Gene names       type\n",
       "0  ENSMUSG00000000001                 Gnai3  cytoplasm\n",
       "1  ENSMUSG00000000028  Cdc45 Cdc45l Cdc45l2    nucleus\n",
       "2  ENSMUSG00000000049            Apoh B2gp1  cytoplasm\n",
       "3  ENSMUSG00000000058                  Cav2  cytoplasm\n",
       "4  ENSMUSG00000000085                 Scmh1    nucleus"
      ]
     },
     "execution_count": 35,
     "metadata": {},
     "output_type": "execute_result"
    }
   ],
   "source": [
    "import ssl\n",
    "ssl._create_default_https_context = ssl._create_unverified_context\n",
    "mouselocal = pd.read_csv('https://hyeshik.qbio.io/binfo/mouselocalization-20210507.txt', sep='\\t')\n",
    "mouselocal.head()"
   ]
  },
  {
   "cell_type": "code",
   "execution_count": 126,
   "metadata": {
    "tags": []
   },
   "outputs": [
    {
     "data": {
      "text/plain": [
       "(7452, 13)"
      ]
     },
     "execution_count": 126,
     "metadata": {},
     "output_type": "execute_result"
    }
   ],
   "source": [
    "cnts_cutoff2 = cnts[(cnts['RNA-control.bam'] > 100) & (cnts['RNA-siLin28a.bam'] > 100) & (cnts['RNA-siLuc.bam'] > 100)]\n",
    "cnts_cutoff2.shape"
   ]
  },
  {
   "cell_type": "code",
   "execution_count": 127,
   "metadata": {},
   "outputs": [
    {
     "data": {
      "text/html": [
       "<div>\n",
       "<style scoped>\n",
       "    .dataframe tbody tr th:only-of-type {\n",
       "        vertical-align: middle;\n",
       "    }\n",
       "\n",
       "    .dataframe tbody tr th {\n",
       "        vertical-align: top;\n",
       "    }\n",
       "\n",
       "    .dataframe thead th {\n",
       "        text-align: right;\n",
       "    }\n",
       "</style>\n",
       "<table border=\"1\" class=\"dataframe\">\n",
       "  <thead>\n",
       "    <tr style=\"text-align: right;\">\n",
       "      <th></th>\n",
       "      <th>gene_id</th>\n",
       "      <th>Chr</th>\n",
       "      <th>Start</th>\n",
       "      <th>End</th>\n",
       "      <th>Strand</th>\n",
       "      <th>Length</th>\n",
       "      <th>CLIP-35L33G.bam</th>\n",
       "      <th>RNA-control.bam</th>\n",
       "      <th>RNA-siLin28a.bam</th>\n",
       "      <th>RNA-siLuc.bam</th>\n",
       "      <th>RPF-siLin28a.bam</th>\n",
       "      <th>RPF-siLuc.bam</th>\n",
       "      <th>clip_enrichment</th>\n",
       "      <th>rden_change</th>\n",
       "    </tr>\n",
       "  </thead>\n",
       "  <tbody>\n",
       "    <tr>\n",
       "      <th>0</th>\n",
       "      <td>ENSMUSG00000033845.</td>\n",
       "      <td>chr1;chr1;chr1;chr1;chr1;chr1;chr1;chr1;chr1;c...</td>\n",
       "      <td>4843429;4843434;4844659;4846600;4847748;484774...</td>\n",
       "      <td>4844739;4847024;4844739;4847024;4847871;484787...</td>\n",
       "      <td>-;-;-;-;-;-;-;-;-;-;-;-;-;-;-;-;-;-;-;-;-;-;-;...</td>\n",
       "      <td>8487</td>\n",
       "      <td>4014</td>\n",
       "      <td>1355</td>\n",
       "      <td>3022</td>\n",
       "      <td>2563</td>\n",
       "      <td>1859</td>\n",
       "      <td>3191</td>\n",
       "      <td>2.962362</td>\n",
       "      <td>0.494091</td>\n",
       "    </tr>\n",
       "    <tr>\n",
       "      <th>1</th>\n",
       "      <td>ENSMUSG00000025903.</td>\n",
       "      <td>chr1;chr1;chr1;chr1;chr1;chr1;chr1;chr1;chr1;c...</td>\n",
       "      <td>4878011;4878046;4878053;4878119;4878121;487813...</td>\n",
       "      <td>4878205;4878205;4878205;4878205;4878205;487820...</td>\n",
       "      <td>+;+;+;+;+;+;+;+;+;+;+;+;+;+;+;+;+;+;+;+;+;+;+;...</td>\n",
       "      <td>7145</td>\n",
       "      <td>2045</td>\n",
       "      <td>574</td>\n",
       "      <td>1219</td>\n",
       "      <td>1236</td>\n",
       "      <td>33</td>\n",
       "      <td>44</td>\n",
       "      <td>3.562718</td>\n",
       "      <td>0.760459</td>\n",
       "    </tr>\n",
       "    <tr>\n",
       "      <th>2</th>\n",
       "      <td>ENSMUSG00000033813.</td>\n",
       "      <td>chr1;chr1;chr1;chr1;chr1;chr1;chr1;chr1;chr1;c...</td>\n",
       "      <td>4928037;4928261;4937693;4937693;4948250;494825...</td>\n",
       "      <td>4928199;4928726;4937755;4937755;4948355;494835...</td>\n",
       "      <td>+;+;+;+;+;+;+;+;+;+;+;+;+;+;+;+;+;+;+;+</td>\n",
       "      <td>3017</td>\n",
       "      <td>1658</td>\n",
       "      <td>762</td>\n",
       "      <td>2130</td>\n",
       "      <td>2225</td>\n",
       "      <td>328</td>\n",
       "      <td>609</td>\n",
       "      <td>2.175853</td>\n",
       "      <td>0.562609</td>\n",
       "    </tr>\n",
       "    <tr>\n",
       "      <th>3</th>\n",
       "      <td>ENSMUSG00000033793.</td>\n",
       "      <td>chr1;chr1;chr1;chr1;chr1;chr1;chr1;chr1;chr1;c...</td>\n",
       "      <td>5140241;5153303;5153333;5153347;5153355;515335...</td>\n",
       "      <td>5140367;5153501;5153848;5153501;5153501;515350...</td>\n",
       "      <td>+;+;+;+;+;+;+;+;+;+;+;+;+;+;+;+;+;+;+;+;+;+;+;...</td>\n",
       "      <td>9746</td>\n",
       "      <td>1111</td>\n",
       "      <td>474</td>\n",
       "      <td>1260</td>\n",
       "      <td>1031</td>\n",
       "      <td>603</td>\n",
       "      <td>1128</td>\n",
       "      <td>2.343882</td>\n",
       "      <td>0.437418</td>\n",
       "    </tr>\n",
       "    <tr>\n",
       "      <th>4</th>\n",
       "      <td>ENSMUSG00000025907.</td>\n",
       "      <td>chr1;chr1;chr1;chr1;chr1;chr1;chr1;chr1;chr1;c...</td>\n",
       "      <td>6276421;6276451;6284869;6284887;6285232;629382...</td>\n",
       "      <td>6276494;6276494;6285181;6285181;6285476;629396...</td>\n",
       "      <td>+;+;+;+;+;+;+;+;+;+;+;+;+;+;+;+;+;+;+;+;+;+;+;...</td>\n",
       "      <td>14690</td>\n",
       "      <td>1520</td>\n",
       "      <td>280</td>\n",
       "      <td>694</td>\n",
       "      <td>903</td>\n",
       "      <td>132</td>\n",
       "      <td>251</td>\n",
       "      <td>5.428571</td>\n",
       "      <td>0.684272</td>\n",
       "    </tr>\n",
       "  </tbody>\n",
       "</table>\n",
       "</div>"
      ],
      "text/plain": [
       "               gene_id                                                Chr  \\\n",
       "0  ENSMUSG00000033845.  chr1;chr1;chr1;chr1;chr1;chr1;chr1;chr1;chr1;c...   \n",
       "1  ENSMUSG00000025903.  chr1;chr1;chr1;chr1;chr1;chr1;chr1;chr1;chr1;c...   \n",
       "2  ENSMUSG00000033813.  chr1;chr1;chr1;chr1;chr1;chr1;chr1;chr1;chr1;c...   \n",
       "3  ENSMUSG00000033793.  chr1;chr1;chr1;chr1;chr1;chr1;chr1;chr1;chr1;c...   \n",
       "4  ENSMUSG00000025907.  chr1;chr1;chr1;chr1;chr1;chr1;chr1;chr1;chr1;c...   \n",
       "\n",
       "                                               Start  \\\n",
       "0  4843429;4843434;4844659;4846600;4847748;484774...   \n",
       "1  4878011;4878046;4878053;4878119;4878121;487813...   \n",
       "2  4928037;4928261;4937693;4937693;4948250;494825...   \n",
       "3  5140241;5153303;5153333;5153347;5153355;515335...   \n",
       "4  6276421;6276451;6284869;6284887;6285232;629382...   \n",
       "\n",
       "                                                 End  \\\n",
       "0  4844739;4847024;4844739;4847024;4847871;484787...   \n",
       "1  4878205;4878205;4878205;4878205;4878205;487820...   \n",
       "2  4928199;4928726;4937755;4937755;4948355;494835...   \n",
       "3  5140367;5153501;5153848;5153501;5153501;515350...   \n",
       "4  6276494;6276494;6285181;6285181;6285476;629396...   \n",
       "\n",
       "                                              Strand  Length  CLIP-35L33G.bam  \\\n",
       "0  -;-;-;-;-;-;-;-;-;-;-;-;-;-;-;-;-;-;-;-;-;-;-;...    8487             4014   \n",
       "1  +;+;+;+;+;+;+;+;+;+;+;+;+;+;+;+;+;+;+;+;+;+;+;...    7145             2045   \n",
       "2            +;+;+;+;+;+;+;+;+;+;+;+;+;+;+;+;+;+;+;+    3017             1658   \n",
       "3  +;+;+;+;+;+;+;+;+;+;+;+;+;+;+;+;+;+;+;+;+;+;+;...    9746             1111   \n",
       "4  +;+;+;+;+;+;+;+;+;+;+;+;+;+;+;+;+;+;+;+;+;+;+;...   14690             1520   \n",
       "\n",
       "   RNA-control.bam  RNA-siLin28a.bam  RNA-siLuc.bam  RPF-siLin28a.bam  \\\n",
       "0             1355              3022           2563              1859   \n",
       "1              574              1219           1236                33   \n",
       "2              762              2130           2225               328   \n",
       "3              474              1260           1031               603   \n",
       "4              280               694            903               132   \n",
       "\n",
       "   RPF-siLuc.bam  clip_enrichment  rden_change  \n",
       "0           3191         2.962362     0.494091  \n",
       "1             44         3.562718     0.760459  \n",
       "2            609         2.175853     0.562609  \n",
       "3           1128         2.343882     0.437418  \n",
       "4            251         5.428571     0.684272  "
      ]
     },
     "execution_count": 127,
     "metadata": {},
     "output_type": "execute_result"
    }
   ],
   "source": [
    "cnts_cutoff2 = cnts_cutoff2.rename_axis('gene_id').reset_index()\n",
    "cnts_cutoff2['gene_id'] = cnts_cutoff2['gene_id'].str[:-2]\n",
    "cnts_cutoff2.head()"
   ]
  },
  {
   "cell_type": "code",
   "execution_count": 128,
   "metadata": {},
   "outputs": [
    {
     "data": {
      "text/html": [
       "<div>\n",
       "<style scoped>\n",
       "    .dataframe tbody tr th:only-of-type {\n",
       "        vertical-align: middle;\n",
       "    }\n",
       "\n",
       "    .dataframe tbody tr th {\n",
       "        vertical-align: top;\n",
       "    }\n",
       "\n",
       "    .dataframe thead th {\n",
       "        text-align: right;\n",
       "    }\n",
       "</style>\n",
       "<table border=\"1\" class=\"dataframe\">\n",
       "  <thead>\n",
       "    <tr style=\"text-align: right;\">\n",
       "      <th></th>\n",
       "      <th>gene_id</th>\n",
       "      <th>Chr</th>\n",
       "      <th>Start</th>\n",
       "      <th>End</th>\n",
       "      <th>Strand</th>\n",
       "      <th>Length</th>\n",
       "      <th>CLIP-35L33G.bam</th>\n",
       "      <th>RNA-control.bam</th>\n",
       "      <th>RNA-siLin28a.bam</th>\n",
       "      <th>RNA-siLuc.bam</th>\n",
       "      <th>RPF-siLin28a.bam</th>\n",
       "      <th>RPF-siLuc.bam</th>\n",
       "      <th>clip_enrichment</th>\n",
       "      <th>rden_change</th>\n",
       "      <th>Gene names</th>\n",
       "      <th>type</th>\n",
       "    </tr>\n",
       "  </thead>\n",
       "  <tbody>\n",
       "    <tr>\n",
       "      <th>0</th>\n",
       "      <td>ENSMUSG00000042414</td>\n",
       "      <td>chr1;chr1;chr1;chr1;chr1;chr1;chr1;chr1</td>\n",
       "      <td>13183681;13186004;13188987;13192585;13194587;1...</td>\n",
       "      <td>13184711;13186105;13189189;13192855;13194744;1...</td>\n",
       "      <td>-;-;-;-;-;-;-;-</td>\n",
       "      <td>2564</td>\n",
       "      <td>227</td>\n",
       "      <td>157</td>\n",
       "      <td>702</td>\n",
       "      <td>414</td>\n",
       "      <td>121</td>\n",
       "      <td>143</td>\n",
       "      <td>1.445860</td>\n",
       "      <td>0.499014</td>\n",
       "      <td>Prdm14</td>\n",
       "      <td>nucleus</td>\n",
       "    </tr>\n",
       "    <tr>\n",
       "      <th>1</th>\n",
       "      <td>ENSMUSG00000073725</td>\n",
       "      <td>chr1;chr1;chr1;chr1;chr1;chr1;chr1;chr1;chr1;c...</td>\n",
       "      <td>24717711;24717741;24717820;24718007;24724478;2...</td>\n",
       "      <td>24717897;24717897;24717897;24718115;24724654;2...</td>\n",
       "      <td>+;+;+;+;+;+;+;+;+;+;+;+;+;+;+;+;+;+;+;+;+;+;+;...</td>\n",
       "      <td>5960</td>\n",
       "      <td>562</td>\n",
       "      <td>102</td>\n",
       "      <td>264</td>\n",
       "      <td>225</td>\n",
       "      <td>801</td>\n",
       "      <td>498</td>\n",
       "      <td>5.509804</td>\n",
       "      <td>1.370824</td>\n",
       "      <td>Lmbrd1</td>\n",
       "      <td>integral membrane</td>\n",
       "    </tr>\n",
       "    <tr>\n",
       "      <th>2</th>\n",
       "      <td>ENSMUSG00000045216</td>\n",
       "      <td>chr1;chr1;chr1</td>\n",
       "      <td>36107481;36140771;36142594</td>\n",
       "      <td>36108265;36144061;36145527</td>\n",
       "      <td>+;+;+</td>\n",
       "      <td>5542</td>\n",
       "      <td>1729</td>\n",
       "      <td>651</td>\n",
       "      <td>2272</td>\n",
       "      <td>1151</td>\n",
       "      <td>596</td>\n",
       "      <td>348</td>\n",
       "      <td>2.655914</td>\n",
       "      <td>0.867629</td>\n",
       "      <td>Hs6st1</td>\n",
       "      <td>integral membrane</td>\n",
       "    </tr>\n",
       "    <tr>\n",
       "      <th>3</th>\n",
       "      <td>ENSMUSG00000010290</td>\n",
       "      <td>chr1;chr1;chr1;chr1</td>\n",
       "      <td>43137870;43139875;43150158;43152346</td>\n",
       "      <td>43138022;43140041;43150533;43155107</td>\n",
       "      <td>+;+;+;+</td>\n",
       "      <td>3458</td>\n",
       "      <td>1005</td>\n",
       "      <td>326</td>\n",
       "      <td>667</td>\n",
       "      <td>680</td>\n",
       "      <td>149</td>\n",
       "      <td>206</td>\n",
       "      <td>3.082822</td>\n",
       "      <td>0.737398</td>\n",
       "      <td>NaN</td>\n",
       "      <td>nucleus</td>\n",
       "    </tr>\n",
       "    <tr>\n",
       "      <th>4</th>\n",
       "      <td>ENSMUSG00000073678</td>\n",
       "      <td>chr1;chr1;chr1;chr1;chr1;chr1;chr1;chr1;chr1;c...</td>\n",
       "      <td>54512153;54521011;54525629;54529380;54531188;5...</td>\n",
       "      <td>54520003;54521115;54525816;54529430;54531323;5...</td>\n",
       "      <td>-;-;-;-;-;-;-;-;-;-;-;-;-;-;-;-;-;-;-;-;-;-;-;...</td>\n",
       "      <td>16611</td>\n",
       "      <td>3097</td>\n",
       "      <td>431</td>\n",
       "      <td>1199</td>\n",
       "      <td>896</td>\n",
       "      <td>972</td>\n",
       "      <td>561</td>\n",
       "      <td>7.185615</td>\n",
       "      <td>1.294769</td>\n",
       "      <td>Pgap1</td>\n",
       "      <td>integral membrane</td>\n",
       "    </tr>\n",
       "  </tbody>\n",
       "</table>\n",
       "</div>"
      ],
      "text/plain": [
       "              gene_id                                                Chr  \\\n",
       "0  ENSMUSG00000042414            chr1;chr1;chr1;chr1;chr1;chr1;chr1;chr1   \n",
       "1  ENSMUSG00000073725  chr1;chr1;chr1;chr1;chr1;chr1;chr1;chr1;chr1;c...   \n",
       "2  ENSMUSG00000045216                                     chr1;chr1;chr1   \n",
       "3  ENSMUSG00000010290                                chr1;chr1;chr1;chr1   \n",
       "4  ENSMUSG00000073678  chr1;chr1;chr1;chr1;chr1;chr1;chr1;chr1;chr1;c...   \n",
       "\n",
       "                                               Start  \\\n",
       "0  13183681;13186004;13188987;13192585;13194587;1...   \n",
       "1  24717711;24717741;24717820;24718007;24724478;2...   \n",
       "2                         36107481;36140771;36142594   \n",
       "3                43137870;43139875;43150158;43152346   \n",
       "4  54512153;54521011;54525629;54529380;54531188;5...   \n",
       "\n",
       "                                                 End  \\\n",
       "0  13184711;13186105;13189189;13192855;13194744;1...   \n",
       "1  24717897;24717897;24717897;24718115;24724654;2...   \n",
       "2                         36108265;36144061;36145527   \n",
       "3                43138022;43140041;43150533;43155107   \n",
       "4  54520003;54521115;54525816;54529430;54531323;5...   \n",
       "\n",
       "                                              Strand  Length  CLIP-35L33G.bam  \\\n",
       "0                                    -;-;-;-;-;-;-;-    2564              227   \n",
       "1  +;+;+;+;+;+;+;+;+;+;+;+;+;+;+;+;+;+;+;+;+;+;+;...    5960              562   \n",
       "2                                              +;+;+    5542             1729   \n",
       "3                                            +;+;+;+    3458             1005   \n",
       "4  -;-;-;-;-;-;-;-;-;-;-;-;-;-;-;-;-;-;-;-;-;-;-;...   16611             3097   \n",
       "\n",
       "   RNA-control.bam  RNA-siLin28a.bam  RNA-siLuc.bam  RPF-siLin28a.bam  \\\n",
       "0              157               702            414               121   \n",
       "1              102               264            225               801   \n",
       "2              651              2272           1151               596   \n",
       "3              326               667            680               149   \n",
       "4              431              1199            896               972   \n",
       "\n",
       "   RPF-siLuc.bam  clip_enrichment  rden_change Gene names               type  \n",
       "0            143         1.445860     0.499014     Prdm14            nucleus  \n",
       "1            498         5.509804     1.370824     Lmbrd1  integral membrane  \n",
       "2            348         2.655914     0.867629     Hs6st1  integral membrane  \n",
       "3            206         3.082822     0.737398        NaN            nucleus  \n",
       "4            561         7.185615     1.294769      Pgap1  integral membrane  "
      ]
     },
     "execution_count": 128,
     "metadata": {},
     "output_type": "execute_result"
    }
   ],
   "source": [
    "cnts_with_loc = pd.merge(cnts_cutoff2, mouselocal, on='gene_id')\n",
    "cnts_with_loc.head()"
   ]
  },
  {
   "cell_type": "code",
   "execution_count": 129,
   "metadata": {},
   "outputs": [
    {
     "name": "stdout",
     "output_type": "stream",
     "text": [
      "(446, 16)\n",
      "(207, 16)\n",
      "(206, 16)\n"
     ]
    }
   ],
   "source": [
    "cnts_nucleus = cnts_with_loc[cnts_with_loc['type'] == 'nucleus']\n",
    "cnts_integral_membrane = cnts_with_loc[cnts_with_loc['type'] == 'integral membrane']\n",
    "cnts_cytoplasm = cnts_with_loc[cnts_with_loc['type'] == 'cytoplasm']\n",
    "\n",
    "print(cnts_nucleus.shape)\n",
    "print(cnts_integral_membrane.shape)\n",
    "print(cnts_cytoplasm.shape)"
   ]
  },
  {
   "cell_type": "code",
   "execution_count": null,
   "metadata": {},
   "outputs": [],
   "source": []
  },
  {
   "cell_type": "markdown",
   "metadata": {
    "id": "Q9vgSzeiQxDU"
   },
   "source": [
    "이제 이 localization 데이터와 위에서 만든 scatter를 결합해서 논문 그림과 비슷하게 만들어 봅시다."
   ]
  },
  {
   "cell_type": "code",
   "execution_count": 146,
   "metadata": {},
   "outputs": [
    {
     "data": {
      "text/plain": [
       "Text(0.5, 1.0, 'CLIP and ribosome footprinting upon Lin28a knockdown')"
      ]
     },
     "execution_count": 146,
     "metadata": {},
     "output_type": "execute_result"
    },
    {
     "data": {
      "image/png": "[encoded data removed]",
      "text/plain": [
       "<Figure size 360x360 with 1 Axes>"
      ]
     },
     "metadata": {
      "needs_background": "light"
     },
     "output_type": "display_data"
    }
   ],
   "source": [
    "fig, ax = plt.subplots(1, 1, figsize=(5, 5))\n",
    "\n",
    "ax.scatter(np.log2(cnts_nucleus['clip_enrichment']),\n",
    "           np.log2(cnts_nucleus['rden_change']),\n",
    "           c='#47b8e0',\n",
    "           s=3,\n",
    "           alpha=0.9,\n",
    "           label='nucleus')\n",
    "\n",
    "ax.scatter(np.log2(cnts_integral_membrane['clip_enrichment']),\n",
    "           np.log2(cnts_integral_membrane['rden_change']),\n",
    "           c='#ff7473',\n",
    "           s=3,\n",
    "           alpha=0.9,\n",
    "           label='integral membrane')\n",
    "\n",
    "ax.scatter(np.log2(cnts_cytoplasm['clip_enrichment']),\n",
    "           np.log2(cnts_cytoplasm['rden_change']),\n",
    "           c='#ffc952',\n",
    "           s=3,\n",
    "           alpha=0.9,\n",
    "           label='cytoplasm')\n",
    "\n",
    "    \n",
    "ax.legend()\n",
    "ax.grid(alpha=0.3)\n",
    "ax.set_xlim(-6,7)\n",
    "ax.set_ylim(-3,1.5)\n",
    "ax.set_xlabel('LIN28A CLIP enrichment (log2)')\n",
    "ax.set_ylabel('Ribosome density change \\nupon Lin28a knockdown (log2)')\n",
    "ax.set_title('CLIP and ribosome footprinting upon Lin28a knockdown')"
   ]
  },
  {
   "cell_type": "code",
   "execution_count": null,
   "metadata": {
    "id": "aPPW73t4X3pp"
   },
   "outputs": [],
   "source": [
    "# the translation of integral membrane protein coding genes is mostly affected by Lin28a knockdown"
   ]
  }
 ],
 "metadata": {
  "colab": {
   "collapsed_sections": [],
   "name": "CoLab-TermProj.ipynb",
   "provenance": []
  },
  "kernelspec": {
   "display_name": "Python 3",
   "language": "python",
   "name": "python3"
  },
  "language_info": {
   "codemirror_mode": {
    "name": "ipython",
    "version": 3
   },
   "file_extension": ".py",
   "mimetype": "text/x-python",
   "name": "python",
   "nbconvert_exporter": "python",
   "pygments_lexer": "ipython3",
   "version": "3.7.10"
  }
 },
 "nbformat": 4,
 "nbformat_minor": 4
}
