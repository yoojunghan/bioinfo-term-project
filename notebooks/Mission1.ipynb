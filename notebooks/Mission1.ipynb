{
 "cells": [
  {
   "cell_type": "markdown",
   "metadata": {
    "id": "_SmTogjeMD47"
   },
   "source": [
    "# 생물정보학 및 실습 1 - Term Project용 환경 셋업\n",
    "\n",
    "```\n",
    "생물정보학 및 실습 1\n",
    "서울대학교 협동과정 생물정보학전공 2021년 1학기\n",
    "\n",
    "이 노트북은 Creative Commons BY-SA 조건으로 재사용 가능합니다.\n",
    "장혜식 <hyeshik@snu.ac.kr>, 서울대학교 생명과학부\n",
    "```"
   ]
  },
  {
   "cell_type": "code",
   "execution_count": 1,
   "metadata": {},
   "outputs": [
    {
     "name": "stdout",
     "output_type": "stream",
     "text": [
      "/qbio/yoojung/coursework/2021-1/bioinfo1/bioinfo-term-project/notebooks\n"
     ]
    }
   ],
   "source": [
    "!pwd"
   ]
  },
  {
   "cell_type": "markdown",
   "metadata": {
    "id": "J2LqGiP_N26s"
   },
   "source": [
    "## 시퀀싱 데이터 다운로드"
   ]
  },
  {
   "cell_type": "code",
   "execution_count": null,
   "metadata": {
    "id": "kIN484e7NSxR"
   },
   "outputs": [],
   "source": [
    "!wget -O ../ --no-check-certificate https://hyeshik.qbio.io/binfo/binfo1-datapack1.tar | tar ../ -xf -"
   ]
  },
  {
   "cell_type": "markdown",
   "metadata": {
    "id": "lnlM-S70C-tY"
   },
   "source": [
    "받은 데이터의 MD5 체크섬을 확인합니다. 한참 걸립니다. 각 파일들의 원래 체크섬은 다음과 같습니다. 한 번 비교해 보세요.\n",
    "\n",
    "```\n",
    "140aaf30bcb9276cc716f8699f04ddd6  CLIP-35L33G.bam\n",
    "f1b3336ed7e2f97d562dcc71641251bd  CLIP-35L33G.bam.bai\n",
    "328883a73d507eafbf5b60bd6b906201  RNA-control.bam\n",
    "02073818e2f398a73c3b76e5169de1ca  RNA-control.bam.bai\n",
    "b09550d09d6c2a4ce27f0226f426fdb1  RNA-siLin28a.bam\n",
    "fef112c727244060ea62d3f2564a07f6  RNA-siLin28a.bam.bai\n",
    "28bbd0c47d725669340c784f1b772c01  RNA-siLuc.bam\n",
    "43590fdc4d81905c0432e0d1cb8cfd5b  RNA-siLuc.bam.bai\n",
    "5c08a9297307bc83259e658c4474f0cc  RPF-siLin28a.bam\n",
    "a1bb3e29be412dfd7fd8d16b1b1acc4c  RPF-siLin28a.bam.bai\n",
    "f2eebf50943024d0116c9cd3e744c707  RPF-siLuc.bam\n",
    "dc24f69e8f571fc8be30f28ce5b84fcd  RPF-siLuc.bam.bai\n",
    "```"
   ]
  },
  {
   "cell_type": "code",
   "execution_count": null,
   "metadata": {
    "id": "g8lC_YJRBCPf"
   },
   "outputs": [],
   "source": [
    "!md5sum drive/MyDrive/binfo1-datapack1/*"
   ]
  },
  {
   "cell_type": "markdown",
   "metadata": {
    "id": "kiQ5y4dTD27M"
   },
   "source": [
    "그리고, GENCODE Annotation 데이터도 미리 받아서 저장해 둡니다. 에러가 나면 다시 한 번 실행해 봅니다."
   ]
  },
  {
   "cell_type": "code",
   "execution_count": null,
   "metadata": {
    "id": "Efdd3x8hDMh4"
   },
   "outputs": [],
   "source": [
    "!wget --no-check-certificate -O /content/drive/MyDrive/binfo1-datapack1/gencode.gtf.gz http://ftp.ebi.ac.uk/pub/databases/gencode/Gencode_mouse/release_M27/gencode.vM27.annotation.gtf.gz"
   ]
  },
  {
   "cell_type": "markdown",
   "metadata": {
    "id": "O3rM9ds6EMhB"
   },
   "source": [
    "다루기 쉽도록 Annotation 압축을 풉니다."
   ]
  },
  {
   "cell_type": "code",
   "execution_count": null,
   "metadata": {
    "id": "KNyuSM6PEQvX"
   },
   "outputs": [],
   "source": [
    "!gunzip /content/drive/MyDrive/binfo1-datapack1/gencode.gtf.gz"
   ]
  },
  {
   "cell_type": "code",
   "execution_count": null,
   "metadata": {
    "id": "PVXzIs5FE3Q4"
   },
   "outputs": [],
   "source": [
    "!ls -al drive/MyDrive/binfo*"
   ]
  },
  {
   "cell_type": "markdown",
   "metadata": {
    "id": "ecEA1PPQUlIK"
   },
   "source": [
    "실습에 필요한 프로그램들 몇 가지를 추가로 설치합니다."
   ]
  },
  {
   "cell_type": "code",
   "execution_count": null,
   "metadata": {
    "id": "neteyWsWEKBy"
   },
   "outputs": [],
   "source": [
    "!conda install -y subread"
   ]
  },
  {
   "cell_type": "markdown",
   "metadata": {
    "id": "Oe_54MZrEi4y"
   },
   "source": [
    "## Transcript count table 마련하기\n",
    "\n",
    "제공된 alignment와 annotation 파일들을 이용해서 transcript별 read count를 구해봅니다. 실제 연구에서는 multi-mapping 등을 고려해야 하지만, 여기서는 단순화해서 모두 무시합니다. 데이터가 있는 곳으로 이동해서 작업합시다."
   ]
  },
  {
   "cell_type": "code",
   "execution_count": null,
   "metadata": {
    "id": "IANz6DmLUkA6"
   },
   "outputs": [],
   "source": [
    "%cd /content/drive/MyDrive/binfo1-datapack1/"
   ]
  },
  {
   "cell_type": "code",
   "execution_count": null,
   "metadata": {
    "id": "5OrnDxegFAip"
   },
   "outputs": [],
   "source": [
    "!featureCounts -a gencode.gtf -o read-counts.txt *.bam "
   ]
  },
  {
   "cell_type": "markdown",
   "metadata": {
    "id": "b2yJztZvGl9Q"
   },
   "source": [
    "결과를 pandas로 읽어와 봅니다."
   ]
  },
  {
   "cell_type": "code",
   "execution_count": null,
   "metadata": {
    "id": "BMyNT3ARFAWi"
   },
   "outputs": [],
   "source": [
    "import pandas as pd\n",
    "cnts = pd.read_csv('read-counts.txt', sep='\\t', comment='#', index_col=0)\n",
    "cnts.head()"
   ]
  },
  {
   "cell_type": "markdown",
   "metadata": {
    "id": "byKCv80ysiNr"
   },
   "source": []
  },
  {
   "cell_type": "markdown",
   "metadata": {
    "id": "NyrUZ7WBPAmv"
   },
   "source": [
    "이제 한 번 대충 그림을 그려 봅니다."
   ]
  },
  {
   "cell_type": "code",
   "execution_count": null,
   "metadata": {
    "id": "YlSZiJgVPAZS"
   },
   "outputs": [],
   "source": [
    "cnts['clip_enrichment'] = cnts['CLIP-35L33G.bam'] / cnts['RNA-control.bam']\n",
    "cnts['rden_change'] = (cnts['RPF-siLin28a.bam'] / cnts['RNA-siLin28a.bam']) / (cnts['RPF-siLuc.bam'] / cnts['RNA-siLuc.bam'])\n",
    "cnts.head()"
   ]
  },
  {
   "cell_type": "code",
   "execution_count": null,
   "metadata": {
    "id": "vU3ce_HEFALl"
   },
   "outputs": [],
   "source": [
    "from matplotlib import pyplot as plt\n",
    "import numpy as np\n",
    "\n",
    "fig, ax = plt.subplots(1, 1, figsize=(5, 5))\n",
    "ax.scatter(np.log2(cnts['clip_enrichment']),\n",
    "           np.log2(cnts['rden_change']))"
   ]
  },
  {
   "cell_type": "markdown",
   "metadata": {
    "id": "ksVjIL10mV_v"
   },
   "source": [
    "이 그림에는 문제가 많이 있습니다. 논문의 그림처럼 한 번 만들어 봅시다~"
   ]
  },
  {
   "cell_type": "code",
   "execution_count": null,
   "metadata": {
    "id": "RZ-EV3s5X3u5"
   },
   "outputs": [],
   "source": []
  },
  {
   "cell_type": "markdown",
   "metadata": {
    "id": "sf6EJJ60Qbxg"
   },
   "source": [
    "## Protein localization 반영하기\n",
    "\n",
    "논문 그림에서는 protein localization을 반영해서 색으로 나타냈습니다. 이것을 한 번 구현해 봅시다. 각 gene product의 localization을 따로 구하려면 좀 귀찮기 때문에 미리 모아 두었습니다. UniProt에서 매핑된 데이터를 토대로 아주 명확한 것만 일부 정리한 것입니다. 이것도 마찬가지로 처음엔 에러가 나기도 하니까, 다시 실행해보면 거의 잘 됩니다~"
   ]
  },
  {
   "cell_type": "code",
   "execution_count": null,
   "metadata": {
    "id": "ivb1q7_f-gl4"
   },
   "outputs": [],
   "source": [
    "import ssl\n",
    "ssl._create_default_https_context = ssl._create_unverified_context\n",
    "mouselocal = pd.read_csv('https://hyeshik.qbio.io/binfo/mouselocalization-20210507.txt', sep='\\t')\n",
    "mouselocal.head()"
   ]
  },
  {
   "cell_type": "markdown",
   "metadata": {
    "id": "Q9vgSzeiQxDU"
   },
   "source": [
    "이제 이 localization 데이터와 위에서 만든 scatter를 결합해서 논문 그림과 비슷하게 만들어 봅시다."
   ]
  },
  {
   "cell_type": "code",
   "execution_count": null,
   "metadata": {
    "id": "aPPW73t4X3pp"
   },
   "outputs": [],
   "source": []
  }
 ],
 "metadata": {
  "colab": {
   "collapsed_sections": [],
   "name": "CoLab-TermProj.ipynb",
   "provenance": []
  },
  "kernelspec": {
   "display_name": "Python 3",
   "language": "python",
   "name": "python3"
  },
  "language_info": {
   "codemirror_mode": {
    "name": "ipython",
    "version": 3
   },
   "file_extension": ".py",
   "mimetype": "text/x-python",
   "name": "python",
   "nbconvert_exporter": "python",
   "pygments_lexer": "ipython3",
   "version": "3.7.10"
  }
 },
 "nbformat": 4,
 "nbformat_minor": 4
}
